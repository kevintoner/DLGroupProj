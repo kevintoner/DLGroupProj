{
 "cells": [
  {
   "cell_type": "markdown",
   "metadata": {},
   "source": [
    "# Imports"
   ]
  },
  {
   "cell_type": "code",
   "execution_count": 1,
   "metadata": {},
   "outputs": [],
   "source": [
    "import os\n",
    "import warnings\n",
    "\n",
    "warnings.filterwarnings(\"ignore\") \n",
    "import copy\n",
    "from pathlib import Path\n",
    "import warnings\n",
    "\n",
    "import numpy as np\n",
    "import pandas as pd\n",
    "import pytorch_lightning as pl\n",
    "from pytorch_lightning.callbacks import EarlyStopping, LearningRateMonitor\n",
    "import torch\n",
    "\n",
    "from pytorch_forecasting import TemporalFusionTransformer, TimeSeriesDataSet\n",
    "from pytorch_forecasting.data import GroupNormalizer\n",
    "from pytorch_forecasting.metrics import RMSE"
   ]
  },
  {
   "cell_type": "markdown",
   "metadata": {},
   "source": [
    "# Set up Data"
   ]
  },
  {
   "cell_type": "code",
   "execution_count": 2,
   "metadata": {},
   "outputs": [],
   "source": [
    "# Choose whether you want to train the model on stock prices of 1 company or 33 companies\n",
    "\n",
    "# dataset = 'small_dataset'\n",
    "dataset = 'big_dataset'\n",
    "\n",
    "\n",
    "data = pd.read_csv(dataset+'.csv')\n",
    "data.drop('Unnamed: 0', axis=1, inplace=True)\n",
    "data.date = data.date.astype('datetime64')\n"
   ]
  },
  {
   "cell_type": "code",
   "execution_count": 3,
   "metadata": {},
   "outputs": [],
   "source": [
    "# Append time index feature\n",
    "data[\"time_idx\"] = 0\n",
    "\n",
    "\n",
    "if dataset == 'big_dataset':\n",
    "    comp_list = ['AMZN', 'AAPL', 'GOOG', 'MSFT', 'NVDA', 'FB', 'TWTR', 'AMD','ADBE','ABNB','ALGN','AMAT','ADSK',\n",
    "             'EA','HON','NFLX','TSLA','ZM','SPLK','SWKS','SBUX','SGEN','MRNA', 'MU','OKTA','ODFL','ORLY','PCAR',\n",
    "             'PDD','PAYX','ROST','SIRI','TMUS']\n",
    "else:\n",
    "    comp_list = ['GOOG']\n",
    "\n",
    "    \n",
    "for ticker in comp_list:\n",
    "   \n",
    "    a,b,c,d,e = 0,1,2,3,4\n",
    "    p_weekofyear = data.loc[data['ticker']== ticker]['date'].min().weekofyear\n",
    "    for index, row in data.loc[data['ticker']== ticker].iterrows():\n",
    "        \n",
    "        c_weekofyear = row['date'].weekofyear\n",
    "        if p_weekofyear != c_weekofyear:\n",
    "            if c_weekofyear > p_weekofyear: \n",
    "                diff = c_weekofyear - p_weekofyear\n",
    "            else:\n",
    "                diff =52 - p_weekofyear +c_weekofyear\n",
    "            p_weekofyear = c_weekofyear \n",
    "            a+= 5*diff\n",
    "            b+= 5*diff\n",
    "            c+= 5*diff\n",
    "            d+= 5*diff\n",
    "            e+= 5*diff\n",
    "\n",
    "        if row['date'].day_name() == 'Monday':\n",
    "            data.loc[index,'time_idx'] = a\n",
    "        elif row['date'].day_name() == 'Tuesday':\n",
    "            data.loc[index,'time_idx'] = b\n",
    "        elif row['date'].day_name() == 'Wednesday':\n",
    "            data.loc[index,'time_idx'] = c\n",
    "        elif row['date'].day_name() == 'Thursday':\n",
    "            data.loc[index,'time_idx'] = d\n",
    "        elif row['date'].day_name() == 'Friday':\n",
    "            data.loc[index,'time_idx'] = e\n",
    "\n",
    "    "
   ]
  },
  {
   "cell_type": "code",
   "execution_count": 4,
   "metadata": {},
   "outputs": [],
   "source": [
    "# Append additional features\n",
    "data[\"month\"] = data.date.dt.month.astype(str).astype(\"category\")  \n",
    "data[\"weekofyear\"] =  data.date.dt.weekofyear.astype(str).astype(\"category\")\n",
    "data['ticker'] = data['ticker'].astype('category')"
   ]
  },
  {
   "cell_type": "code",
   "execution_count": 5,
   "metadata": {},
   "outputs": [],
   "source": [
    "## Construct dataloaders for training and testing\n",
    "\n",
    "# maximum history length used by the time series dataset\n",
    "max_encoder_length = 70\n",
    "# maximum decoder length\n",
    "max_prediction_length = 1\n",
    "# Set the size of the training set\n",
    "# 753 = test set size\n",
    "training_cutoff = data[\"time_idx\"].max() - 753\n",
    "\n",
    "\n",
    "training = TimeSeriesDataSet(\n",
    "    data[lambda x: x.time_idx <= training_cutoff], # training data\n",
    "    time_idx=\"time_idx\",  # time index to identify the order of the elements in the time series\n",
    "    target=\"Close\", # target column\n",
    "    group_ids=['ticker'], # list of column names identifying a time series.\n",
    "    min_encoder_length=max_encoder_length,  # set min_encoder_length = max_encoder_length\n",
    "    max_encoder_length=max_encoder_length, \n",
    "    min_prediction_length=1,\n",
    "    max_prediction_length=max_prediction_length,\n",
    "    static_categoricals=['ticker'], # static covariates\n",
    "    time_varying_known_categoricals=[\"weekofyear\", \"month\"], # Known future inputs (categorical)\n",
    "    time_varying_known_reals=[\"time_idx\"], # Known future inputs (continuous)\n",
    "    time_varying_unknown_reals=[  # Observed inputs\n",
    "        \"Open\",\n",
    "        \"High\",\n",
    "        \"Low\",\n",
    "        \"Close\",\n",
    "        \"^NDXT_Close\",\n",
    "        \"QTEC_Close\",\n",
    "        \"^SP500-45_Close\",\n",
    "    ],\n",
    "\tallow_missing_timesteps=True,\n",
    "    target_normalizer=GroupNormalizer(\n",
    "        groups=[\"ticker\"], transformation=\"softplus\"\n",
    "    ),  \n",
    "\n",
    "    add_target_scales=True, #  Add scales for target to static real features \n",
    "                            # (i.e. add the mean and svariance of the unnormalized\n",
    "                            # timeseries as features)\n",
    ")\n",
    "\n",
    "# create validation dataset\n",
    "# (predict=True) means to predict\n",
    "# the last max_prediction_length points in the given time_series => Set to False\n",
    "validation = TimeSeriesDataSet.from_dataset(training, data, predict=False, stop_randomization=True)\n",
    "\n",
    "# create dataloaders for model\n",
    "batch_size = 128 \n",
    "train_dataloader = training.to_dataloader(train=True, batch_size=batch_size, num_workers=2)\n",
    "val_dataloader = validation.to_dataloader(train=False, batch_size=batch_size , num_workers=2) "
   ]
  },
  {
   "cell_type": "markdown",
   "metadata": {},
   "source": [
    "# Set up Model & Trainer"
   ]
  },
  {
   "cell_type": "code",
   "execution_count": 6,
   "metadata": {},
   "outputs": [
    {
     "name": "stderr",
     "output_type": "stream",
     "text": [
      "GPU available: True, used: True\n",
      "TPU available: False, using: 0 TPU cores\n",
      "IPU available: False, using: 0 IPUs\n"
     ]
    },
    {
     "name": "stdout",
     "output_type": "stream",
     "text": [
      "Number of parameters in network: 23.1k\n"
     ]
    }
   ],
   "source": [
    "\n",
    "early_stop_callback = EarlyStopping(monitor=\"val_loss\", min_delta=1e-4, patience=10, verbose=False, mode=\"min\")\n",
    "\n",
    "trainer = pl.Trainer(\n",
    "    max_epochs=100,\n",
    "    gpus=1,\n",
    "    weights_summary=\"top\",\n",
    "    gradient_clip_val=0.1, # prevent divergance\n",
    "                           # of the gradient for recurrent neural networks\n",
    "    limit_train_batches=30,  # running valdiation every 30 batches\n",
    "    callbacks=[ early_stop_callback],\n",
    ")\n",
    "\n",
    "\n",
    "tft = TemporalFusionTransformer.from_dataset(\n",
    "    training,\n",
    "    learning_rate=0.03,\n",
    "    hidden_size=16,\n",
    "    attention_head_size=1,\n",
    "    dropout=0.1,\n",
    "    hidden_continuous_size=8,\n",
    "    loss=RMSE(),\n",
    "    # reduce lr after 4 epochs if no improvement in performance\n",
    "    reduce_on_plateau_patience=4,\n",
    ")\n",
    "print(f\"Number of parameters in network: {tft.size()/1e3:.1f}k\")"
   ]
  },
  {
   "cell_type": "markdown",
   "metadata": {},
   "source": [
    "# Train Model"
   ]
  },
  {
   "cell_type": "code",
   "execution_count": 7,
   "metadata": {},
   "outputs": [
    {
     "name": "stderr",
     "output_type": "stream",
     "text": [
      "Global seed set to 2022\n"
     ]
    },
    {
     "data": {
      "text/plain": [
       "2022"
      ]
     },
     "execution_count": 7,
     "metadata": {},
     "output_type": "execute_result"
    }
   ],
   "source": [
    "# Set the seed to ensure reproducible results\n",
    "pl.seed_everything(2022)"
   ]
  },
  {
   "cell_type": "code",
   "execution_count": 8,
   "metadata": {},
   "outputs": [
    {
     "name": "stderr",
     "output_type": "stream",
     "text": [
      "LOCAL_RANK: 0 - CUDA_VISIBLE_DEVICES: [0]\n",
      "\n",
      "   | Name                               | Type                            | Params\n",
      "----------------------------------------------------------------------------------------\n",
      "0  | loss                               | RMSE                            | 0     \n",
      "1  | logging_metrics                    | ModuleList                      | 0     \n",
      "2  | input_embeddings                   | MultiEmbedding                  | 1.2 K \n",
      "3  | prescalers                         | ModuleDict                      | 160   \n",
      "4  | static_variable_selection          | VariableSelectionNetwork        | 1.2 K \n",
      "5  | encoder_variable_selection         | VariableSelectionNetwork        | 5.7 K \n",
      "6  | decoder_variable_selection         | VariableSelectionNetwork        | 813   \n",
      "7  | static_context_variable_selection  | GatedResidualNetwork            | 1.1 K \n",
      "8  | static_context_initial_hidden_lstm | GatedResidualNetwork            | 1.1 K \n",
      "9  | static_context_initial_cell_lstm   | GatedResidualNetwork            | 1.1 K \n",
      "10 | static_context_enrichment          | GatedResidualNetwork            | 1.1 K \n",
      "11 | lstm_encoder                       | LSTM                            | 2.2 K \n",
      "12 | lstm_decoder                       | LSTM                            | 2.2 K \n",
      "13 | post_lstm_gate_encoder             | GatedLinearUnit                 | 544   \n",
      "14 | post_lstm_add_norm_encoder         | AddNorm                         | 32    \n",
      "15 | static_enrichment                  | GatedResidualNetwork            | 1.4 K \n",
      "16 | multihead_attn                     | InterpretableMultiHeadAttention | 1.1 K \n",
      "17 | post_attn_gate_norm                | GateAddNorm                     | 576   \n",
      "18 | pos_wise_ff                        | GatedResidualNetwork            | 1.1 K \n",
      "19 | pre_output_gate_norm               | GateAddNorm                     | 576   \n",
      "20 | output_layer                       | Linear                          | 17    \n",
      "----------------------------------------------------------------------------------------\n",
      "23.1 K    Trainable params\n",
      "0         Non-trainable params\n",
      "23.1 K    Total params\n",
      "0.093     Total estimated model params size (MB)\n"
     ]
    },
    {
     "name": "stdout",
     "output_type": "stream",
     "text": [
      "                                                                      "
     ]
    },
    {
     "name": "stderr",
     "output_type": "stream",
     "text": [
      "Global seed set to 2022\n"
     ]
    },
    {
     "name": "stdout",
     "output_type": "stream",
     "text": [
      "Epoch 60: 100%|██████████| 804/804 [00:44<00:00, 17.93it/s, loss=5.49, v_num=9, train_loss_step=4.900, val_loss=14.90, train_loss_epoch=6.040]\n"
     ]
    }
   ],
   "source": [
    "# fit network\n",
    "trainer.fit(\n",
    "    tft,\n",
    "    train_dataloaders=train_dataloader,\n",
    "    val_dataloaders=val_dataloader,\n",
    ")"
   ]
  },
  {
   "cell_type": "markdown",
   "metadata": {},
   "source": [
    "# Test Model"
   ]
  },
  {
   "cell_type": "code",
   "execution_count": 9,
   "metadata": {},
   "outputs": [],
   "source": [
    "# load the best model according to the validation loss\n",
    "best_model_path =  trainer.checkpoint_callback.best_model_path\n",
    "best_tft = TemporalFusionTransformer.load_from_checkpoint(best_model_path)"
   ]
  },
  {
   "cell_type": "code",
   "execution_count": 10,
   "metadata": {},
   "outputs": [],
   "source": [
    "# Find out the actual and perdicted labels\n",
    "actuals = torch.cat([y[0] for x, y in iter(val_dataloader)])\n",
    "predictions = best_tft.predict(val_dataloader, mode= 'prediction')"
   ]
  },
  {
   "cell_type": "code",
   "execution_count": 11,
   "metadata": {},
   "outputs": [],
   "source": [
    "# Store the time indices of the validation dataset\n",
    "time_id = torch.cat([x['decoder_time_idx'] for x, y in iter(val_dataloader)])"
   ]
  },
  {
   "cell_type": "code",
   "execution_count": 12,
   "metadata": {},
   "outputs": [],
   "source": [
    "# Fetch validation set\n",
    "val_set = data.loc[data['ticker']== 'GOOG'].tail(753).copy()"
   ]
  },
  {
   "cell_type": "code",
   "execution_count": 13,
   "metadata": {},
   "outputs": [],
   "source": [
    "# Figure out the time index of the first timestep in the validation set\n",
    "pot_first_tidx = ((time_id  == val_set.iloc[0]['time_idx']).nonzero(as_tuple=True)[0]) \n",
    "fcond = actuals[pot_first_tidx] == (val_set.iloc[0]['Close'])\n",
    "first_tidx = pot_first_tidx[fcond.squeeze()].item()"
   ]
  },
  {
   "cell_type": "code",
   "execution_count": 14,
   "metadata": {},
   "outputs": [],
   "source": [
    "# Figure out the time index of the last timestep in the validation set\n",
    "pot_last_tidx = ((time_id  == val_set.iloc[-1]['time_idx']).nonzero(as_tuple=True)[0])\n",
    "lcond = actuals[pot_last_tidx] == (val_set.iloc[-1]['Close'])\n",
    "last_tidx = pot_last_tidx[lcond.squeeze()].item()"
   ]
  },
  {
   "cell_type": "markdown",
   "metadata": {},
   "source": [
    "# RMSE Results"
   ]
  },
  {
   "cell_type": "code",
   "execution_count": 19,
   "metadata": {},
   "outputs": [
    {
     "name": "stdout",
     "output_type": "stream",
     "text": [
      "RMSE loss for 10 forecasting steps:  13.473105430603027\n",
      "RMSE loss for 20 forecasting steps:  16.71624755859375\n",
      "RMSE loss for 30 forecasting steps:  16.105693817138672\n",
      "RMSE loss for 50 forecasting steps:  15.84580135345459\n",
      "RMSE loss for 70 forecasting steps:  14.66705322265625\n",
      "RMSE loss for 729 forecasting steps:  557.3442993164062\n"
     ]
    }
   ],
   "source": [
    "steps = [10, 20, 30,50,70,len(actuals[first_tidx:last_tidx]) ]\n",
    "\n",
    "\n",
    "for i in steps:\n",
    "    rmse =  np.sqrt(((actuals[first_tidx:first_tidx+i]-predictions[first_tidx:first_tidx+i])**2).mean())\n",
    "    print('RMSE loss for '+ str(i)+ ' forecasting steps: ', rmse.item() )\n",
    "    # Save the rmse values in csv file\n",
    "    with open('TFT'+\".csv\", \"a\") as rmse_file:\n",
    "        rmse_file.write('look_back_window' + \", \" +str(max_encoder_length)+ \", \" + str(rmse)+\"\\n\")"
   ]
  },
  {
   "cell_type": "markdown",
   "metadata": {},
   "source": [
    "# Produce a Graph"
   ]
  },
  {
   "cell_type": "code",
   "execution_count": 16,
   "metadata": {},
   "outputs": [
    {
     "name": "stdout",
     "output_type": "stream",
     "text": [
      "Graphs folder created!\n"
     ]
    }
   ],
   "source": [
    "# Create folder for graphs\n",
    "folderName = \"Graphs\"\n",
    "if not os.path.exists(\"Graphs\"):\n",
    "    os.makedirs(folderName)\n",
    "    print(\"Graphs folder created!\")"
   ]
  },
  {
   "cell_type": "code",
   "execution_count": 17,
   "metadata": {},
   "outputs": [
    {
     "data": {
      "image/png": "[encoded data removed]",
      "text/plain": [
       "<Figure size 432x288 with 1 Axes>"
      ]
     },
     "metadata": {
      "needs_background": "light"
     },
     "output_type": "display_data"
    }
   ],
   "source": [
    "import matplotlib.pyplot as plt\n",
    "\n",
    "plt.plot(actuals[first_tidx:last_tidx].numpy(), label = 'True')\n",
    "plt.plot(predictions[first_tidx:last_tidx].numpy(), label = 'predicted')\n",
    "\n",
    "plt.title('Predicted vs True Stock Prices',fontsize=14, fontweight='bold')\n",
    "plt.xlabel('Day', fontsize=14, fontweight='bold')\n",
    "plt.ylabel('Stock Price',fontsize=14, fontweight='bold')\n",
    "plt.legend(loc='best')\n",
    "plt.savefig('Graphs/'+'look_back_window'+str(max_encoder_length)+'.png')\n",
    "plt.show()"
   ]
  }
 ],
 "metadata": {
  "interpreter": {
   "hash": "13f1b7a9090cc0c25ab5544936ec02a955a782946843122c2dba9a0302bca932"
  },
  "kernelspec": {
   "display_name": "Python 3",
   "language": "python",
   "name": "python3"
  },
  "language_info": {
   "codemirror_mode": {
    "name": "ipython",
    "version": 3
   },
   "file_extension": ".py",
   "mimetype": "text/x-python",
   "name": "python",
   "nbconvert_exporter": "python",
   "pygments_lexer": "ipython3",
   "version": "3.6.13"
  }
 },
 "nbformat": 4,
 "nbformat_minor": 2
}
