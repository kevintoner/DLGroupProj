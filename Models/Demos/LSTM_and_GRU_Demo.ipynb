{
 "cells": [
  {
   "cell_type": "markdown",
   "id": "5763a29c",
   "metadata": {},
   "source": [
    "## Imports"
   ]
  },
  {
   "cell_type": "code",
   "execution_count": 1,
   "id": "d40c6503",
   "metadata": {
    "id": "d40c6503"
   },
   "outputs": [],
   "source": [
    "# Import libraries\n",
    "import pandas as pd\n",
    "from torch.utils.data import DataLoader\n",
    "from torch.utils.data import Dataset\n",
    "import matplotlib.pyplot as plt\n",
    "import torchvision.models as models\n",
    "from sklearn.metrics import mean_squared_error\n",
    "from sklearn.metrics import mean_absolute_error\n",
    "import torch\n",
    "import torchvision\n",
    "import torch.nn as nn\n",
    "import torch.optim as optim\n",
    "import numpy as np\n",
    "import os\n",
    "from sklearn.preprocessing import StandardScaler\n",
    "import time\n",
    "import random"
   ]
  },
  {
   "cell_type": "markdown",
   "id": "844d3a5a",
   "metadata": {},
   "source": [
    "## Setup Data"
   ]
  },
  {
   "cell_type": "code",
   "execution_count": 2,
   "id": "e240ac10",
   "metadata": {
    "colab": {
     "base_uri": "https://localhost:8080/"
    },
    "id": "e240ac10",
    "outputId": "3adc5158-0749-4878-f672-e11f3cd84d53"
   },
   "outputs": [
    {
     "name": "stdout",
     "output_type": "stream",
     "text": [
      "Successfully fetched train and test datasets\n"
     ]
    }
   ],
   "source": [
    "# Fetch the train/test data from the csv file\n",
    "train_csv = 'Datasets/train_data.csv'\n",
    "test_csv = 'Datasets/test_data.csv'\n",
    "\n",
    "df_train = pd.read_csv(train_csv, index_col = 'Date')\n",
    "df_test = pd.read_csv(test_csv, index_col = 'Date')\n",
    "\n",
    "print('Successfully fetched train and test datasets')"
   ]
  },
  {
   "cell_type": "code",
   "execution_count": 3,
   "id": "BDpsNVyQJFAv",
   "metadata": {
    "colab": {
     "base_uri": "https://localhost:8080/",
     "height": 237
    },
    "id": "BDpsNVyQJFAv",
    "outputId": "a311352d-65c1-44b7-86c1-76cc5801b01e"
   },
   "outputs": [
    {
     "data": {
      "text/html": [
       "<div>\n",
       "<style scoped>\n",
       "    .dataframe tbody tr th:only-of-type {\n",
       "        vertical-align: middle;\n",
       "    }\n",
       "\n",
       "    .dataframe tbody tr th {\n",
       "        vertical-align: top;\n",
       "    }\n",
       "\n",
       "    .dataframe thead th {\n",
       "        text-align: right;\n",
       "    }\n",
       "</style>\n",
       "<table border=\"1\" class=\"dataframe\">\n",
       "  <thead>\n",
       "    <tr style=\"text-align: right;\">\n",
       "      <th></th>\n",
       "      <th>Open</th>\n",
       "      <th>High</th>\n",
       "      <th>Low</th>\n",
       "      <th>Close</th>\n",
       "      <th>Adj Close</th>\n",
       "      <th>Volume</th>\n",
       "      <th>^NDXT_Close</th>\n",
       "      <th>QTEC_Close</th>\n",
       "      <th>^SP500-45_Close</th>\n",
       "    </tr>\n",
       "  </thead>\n",
       "  <tbody>\n",
       "    <tr>\n",
       "      <th>0</th>\n",
       "      <td>-0.917821</td>\n",
       "      <td>-0.907476</td>\n",
       "      <td>-0.917195</td>\n",
       "      <td>-0.914544</td>\n",
       "      <td>-0.914544</td>\n",
       "      <td>2.194687</td>\n",
       "      <td>-0.837896</td>\n",
       "      <td>-0.840978</td>\n",
       "      <td>-0.832003</td>\n",
       "    </tr>\n",
       "    <tr>\n",
       "      <th>1</th>\n",
       "      <td>-0.912616</td>\n",
       "      <td>-0.894926</td>\n",
       "      <td>-0.904533</td>\n",
       "      <td>-0.887362</td>\n",
       "      <td>-0.887362</td>\n",
       "      <td>2.272368</td>\n",
       "      <td>-0.816892</td>\n",
       "      <td>-0.819800</td>\n",
       "      <td>-0.808579</td>\n",
       "    </tr>\n",
       "    <tr>\n",
       "      <th>2</th>\n",
       "      <td>-0.889194</td>\n",
       "      <td>-0.888814</td>\n",
       "      <td>-0.887463</td>\n",
       "      <td>-0.880544</td>\n",
       "      <td>-0.880544</td>\n",
       "      <td>1.836779</td>\n",
       "      <td>-0.822993</td>\n",
       "      <td>-0.824687</td>\n",
       "      <td>-0.817037</td>\n",
       "    </tr>\n",
       "    <tr>\n",
       "      <th>3</th>\n",
       "      <td>-0.880190</td>\n",
       "      <td>-0.884733</td>\n",
       "      <td>-0.880309</td>\n",
       "      <td>-0.886807</td>\n",
       "      <td>-0.886807</td>\n",
       "      <td>0.928411</td>\n",
       "      <td>-0.820503</td>\n",
       "      <td>-0.820343</td>\n",
       "      <td>-0.813875</td>\n",
       "    </tr>\n",
       "    <tr>\n",
       "      <th>4</th>\n",
       "      <td>-0.884076</td>\n",
       "      <td>-0.887523</td>\n",
       "      <td>-0.882058</td>\n",
       "      <td>-0.883476</td>\n",
       "      <td>-0.883476</td>\n",
       "      <td>1.197357</td>\n",
       "      <td>-0.817606</td>\n",
       "      <td>-0.815999</td>\n",
       "      <td>-0.807513</td>\n",
       "    </tr>\n",
       "  </tbody>\n",
       "</table>\n",
       "</div>"
      ],
      "text/plain": [
       "       Open      High       Low     Close  Adj Close    Volume  ^NDXT_Close  \\\n",
       "0 -0.917821 -0.907476 -0.917195 -0.914544  -0.914544  2.194687    -0.837896   \n",
       "1 -0.912616 -0.894926 -0.904533 -0.887362  -0.887362  2.272368    -0.816892   \n",
       "2 -0.889194 -0.888814 -0.887463 -0.880544  -0.880544  1.836779    -0.822993   \n",
       "3 -0.880190 -0.884733 -0.880309 -0.886807  -0.886807  0.928411    -0.820503   \n",
       "4 -0.884076 -0.887523 -0.882058 -0.883476  -0.883476  1.197357    -0.817606   \n",
       "\n",
       "   QTEC_Close  ^SP500-45_Close  \n",
       "0   -0.840978        -0.832003  \n",
       "1   -0.819800        -0.808579  \n",
       "2   -0.824687        -0.817037  \n",
       "3   -0.820343        -0.813875  \n",
       "4   -0.815999        -0.807513  "
      ]
     },
     "execution_count": 3,
     "metadata": {},
     "output_type": "execute_result"
    }
   ],
   "source": [
    "# Normalise data using mean and SD from train_df\n",
    "scaler = StandardScaler()\n",
    "\n",
    "# Scale the training dataset\n",
    "scaler.fit(df_train)\n",
    "scaled_train_df = pd.DataFrame(columns=df_train.columns)\n",
    "scaled_train_df[scaled_train_df.columns] = scaler.transform(df_train)\n",
    "scaled_train_df\n",
    "\n",
    "# Test dataset is scaled later as it requires for the end of the \n",
    "# training dataset to be prepended to it before scaling.\n",
    "\n",
    "scaled_train_df.head()"
   ]
  },
  {
   "cell_type": "markdown",
   "id": "fb6bc376",
   "metadata": {},
   "source": [
    "## Setup Model Components"
   ]
  },
  {
   "cell_type": "code",
   "execution_count": 4,
   "id": "zL7CItYxpxFB",
   "metadata": {
    "id": "zL7CItYxpxFB"
   },
   "outputs": [],
   "source": [
    "# Hyper parameters\n",
    "input_size = len(df_train.columns)\n",
    "hidden_size = 128\n",
    "num_layers = 1\n",
    "num_outputs = 1 # Regression problem\n",
    "epochs = 100\n",
    "batch_size = 16\n",
    "learning_rate = 0.001\n",
    "model_name = 'GRU_model' # Use the GRU model"
   ]
  },
  {
   "cell_type": "code",
   "execution_count": 5,
   "id": "791283f0",
   "metadata": {
    "id": "791283f0"
   },
   "outputs": [],
   "source": [
    "# Define dataset class\n",
    "class StockDataSet (Dataset):\n",
    "    \n",
    "    def __init__(self,raw_data,sequence_length):        \n",
    "        self.target = torch.Tensor([np.array(raw_data['Close']).astype(np.float32)]).T\n",
    "        self.features = torch.Tensor(np.array(raw_data).astype(np.float32))\n",
    "        self.seq_len = sequence_length\n",
    "    \n",
    "    def __getitem__(self,index): # allows us to index our instance\n",
    "        \n",
    "        input_feat = self.features[index:index+ self.seq_len]\n",
    "        label = self.target[index +self.seq_len]  \n",
    "        return input_feat,label \n",
    "    \n",
    "    def __len__(self):\n",
    "        return len(self.features)- self.seq_len"
   ]
  },
  {
   "cell_type": "code",
   "execution_count": 6,
   "id": "b24aceb4",
   "metadata": {
    "id": "b24aceb4"
   },
   "outputs": [],
   "source": [
    "# Define LSTM class\n",
    "class LSTM_NN(nn.Module):\n",
    "    def __init__(self, input_size, hidden_size, num_layers,num_outputs):\n",
    "        super(LSTM_NN, self).__init__()\n",
    "        self.num_layers = num_layers\n",
    "        self.hidden_size = hidden_size\n",
    "        \n",
    "        if model_name == \"GRU_model\":\n",
    "            self.gru = nn.GRU(input_size, hidden_size, num_layers, batch_first=True)\n",
    "        else:\n",
    "            self.lstm = nn.LSTM(input_size, hidden_size, num_layers, batch_first=True)\n",
    "        \n",
    "        self.fc = nn.Linear(hidden_size, num_outputs)\n",
    "        \n",
    "    def forward(self, x):\n",
    "        # Set initial hidden states and memory states:\n",
    "        h0 = torch.zeros(self.num_layers, x.size()[0], self.hidden_size).to(device) \n",
    "        c0 = torch.zeros(self.num_layers, x.size()[0], self.hidden_size).to(device) \n",
    "    \n",
    "        if model_name == \"GRU_model\":\n",
    "            output, _ = self.gru(x, h0)  \n",
    "        else:\n",
    "            output, _ = self.lstm(x, (h0,c0))\n",
    "        \n",
    "        # The output of the last cell is of our concern\n",
    "        output = output[:, -1, :] # output.size : (batch_size, hidden_size)\n",
    "        \n",
    "        output = self.fc(output) # output.size: (batch_size , 1)\n",
    "        \n",
    "        return output"
   ]
  },
  {
   "cell_type": "markdown",
   "id": "7cb931c6",
   "metadata": {},
   "source": [
    "## Training"
   ]
  },
  {
   "cell_type": "code",
   "execution_count": 7,
   "id": "c767dc6e",
   "metadata": {
    "id": "c767dc6e"
   },
   "outputs": [],
   "source": [
    "# Train the model\n",
    "def train_model(model, train_loader, test_loader, criterion, optimizer, epochs, model_name):\n",
    "    os.makedirs('checkpoint',exist_ok = True)\n",
    "    checkpoint_path=f'{model_name}.pth'\n",
    "    n_total_steps = len(train_loader)\n",
    "    train_loss_list = []\n",
    "    test_loss_list = []\n",
    "    \n",
    "    # Record the number of times since improvement for early stopping\n",
    "    num_since_impr = 0\n",
    "    stop_after = 50 # Stop after a num of epochs if no improvements to loss \n",
    "    \n",
    "    for epoch in range(epochs):\n",
    "        model.train()\n",
    "        train_running_loss = 0 \n",
    "        counter = 0\n",
    "\n",
    "        for i, (features, labels) in enumerate(train_loader):  \n",
    "\n",
    "            features = features.to(device)\n",
    "            labels = labels.to(device)\n",
    "\n",
    "            # Forward pass\n",
    "            outputs = model(features)\n",
    "            loss = criterion(outputs, labels)\n",
    "        \n",
    "            # Backward and optimize\n",
    "            optimizer.zero_grad()\n",
    "            loss.backward()\n",
    "            optimizer.step()\n",
    "        \n",
    "            train_running_loss+=loss.item() * len(labels)\n",
    "            counter += len(labels)\n",
    "        \n",
    "        train_loss = (train_running_loss/counter)    \n",
    "        print (f\" Epoch [{epoch+1}/{epochs}],\"\n",
    "                   +  f\" Training loss: {train_loss :.3f}\")\n",
    " \n",
    "        test_loss, _ , _ = test_model(model,test_loader,criterion)\n",
    "        train_loss_list.append(train_loss)\n",
    "        test_loss_list.append(test_loss)\n",
    "\n",
    "        if epoch == 0:\n",
    "          least_test_loss = test_loss \n",
    "        \n",
    "        elif epoch > 0 and test_loss_list[-1] < least_test_loss:\n",
    "          least_test_loss = test_loss_list[-1]\n",
    "          torch.save(model.state_dict(), 'checkpoint'+'/'+ checkpoint_path)\n",
    "            #print(test_loss_list[-1])\n",
    "          # Reset counter\n",
    "          num_since_impr = 0\n",
    "        else:\n",
    "            num_since_impr +=1\n",
    "        # If no improvements after a number of epochs, early stop\n",
    "        if num_since_impr >= stop_after:\n",
    "#            print(\"EARLY STOPPING\")\n",
    "#             return model, train_loss_list, test_loss_list  \n",
    "            \n",
    "    return model, train_loss_list, test_loss_list     "
   ]
  },
  {
   "cell_type": "markdown",
   "id": "397db596",
   "metadata": {},
   "source": [
    "## Testing"
   ]
  },
  {
   "cell_type": "code",
   "execution_count": 8,
   "id": "d12cdc5d",
   "metadata": {
    "id": "d12cdc5d"
   },
   "outputs": [],
   "source": [
    "# Test the model\n",
    "def test_model(model, test_loader, criterion):\n",
    "    model.eval()\n",
    "    test_running_loss = 0\n",
    "    counter = 0\n",
    "    predicted = []\n",
    "    true_labels = []\n",
    "    \n",
    "    with torch.no_grad():\n",
    "        for (features, labels) in test_loader:\n",
    "            features = features.to(device)\n",
    "            labels = labels.to(device)\n",
    "            outputs = model(features)\n",
    "            loss = criterion(outputs, labels)\n",
    "            test_running_loss += loss.item()*len(labels)\n",
    "            counter += len(labels)\n",
    "            predicted.append(outputs.detach().cpu().numpy())\n",
    "            true_labels.append(labels.detach().cpu().numpy())\n",
    "\n",
    "        test_loss = (test_running_loss/counter)\n",
    "        print(f'Test loss of the network: {test_loss:.3f} ')\n",
    "    \n",
    "    return test_loss, predicted, true_labels"
   ]
  },
  {
   "cell_type": "code",
   "execution_count": 9,
   "id": "tRn4S_t9pPuM",
   "metadata": {
    "colab": {
     "base_uri": "https://localhost:8080/"
    },
    "id": "tRn4S_t9pPuM",
    "outputId": "2ed817c3-b854-4fef-95cb-f55ab709a6d0"
   },
   "outputs": [
    {
     "name": "stdout",
     "output_type": "stream",
     "text": [
      "Using cuda\n"
     ]
    }
   ],
   "source": [
    "# Use GPU if available\n",
    "device = torch.device(\"cuda:0\" if torch.cuda.is_available() else \"cpu\")\n",
    "if torch.cuda.is_available():\n",
    "    print(\"Using cuda\")\n",
    "\n",
    "# Reproduce same result\n",
    "seed = 2022\n",
    "torch.cuda.manual_seed_all(seed)\n",
    "torch.cuda.manual_seed(seed)\n",
    "torch.manual_seed(seed)\n",
    "random.seed(seed)\n",
    "np.random.seed(seed)\n",
    "torch.backends.cudnn.deterministic=True"
   ]
  },
  {
   "cell_type": "markdown",
   "id": "0cf9940f",
   "metadata": {},
   "source": [
    "## Train the Model"
   ]
  },
  {
   "cell_type": "code",
   "execution_count": 10,
   "id": "5dc9a8b0",
   "metadata": {
    "colab": {
     "base_uri": "https://localhost:8080/"
    },
    "id": "5dc9a8b0",
    "outputId": "965e4c4d-5b1b-4a8a-9640-c270e98ef752",
    "scrolled": true
   },
   "outputs": [
    {
     "name": "stdout",
     "output_type": "stream",
     "text": [
      "SEQUENCE LENGTH IS: 70\n"
     ]
    },
    {
     "name": "stderr",
     "output_type": "stream",
     "text": [
      "<ipython-input-5-304291d2117e>:5: UserWarning: Creating a tensor from a list of numpy.ndarrays is extremely slow. Please consider converting the list to a single numpy.ndarray with numpy.array() before converting to a tensor. (Triggered internally at  ../torch/csrc/utils/tensor_new.cpp:201.)\n",
      "  self.target = torch.Tensor([np.array(raw_data['Close']).astype(np.float32)]).T\n"
     ]
    },
    {
     "name": "stdout",
     "output_type": "stream",
     "text": [
      " Epoch [1/100], Training loss: 0.028\n",
      "Test loss of the network: 3.389 \n",
      " Epoch [2/100], Training loss: 0.005\n",
      "Test loss of the network: 3.392 \n",
      " Epoch [3/100], Training loss: 0.004\n",
      "Test loss of the network: 3.465 \n",
      " Epoch [4/100], Training loss: 0.003\n",
      "Test loss of the network: 3.498 \n",
      " Epoch [5/100], Training loss: 0.004\n",
      "Test loss of the network: 3.561 \n",
      " Epoch [6/100], Training loss: 0.004\n",
      "Test loss of the network: 3.574 \n",
      " Epoch [7/100], Training loss: 0.004\n",
      "Test loss of the network: 3.690 \n",
      " Epoch [8/100], Training loss: 0.005\n",
      "Test loss of the network: 3.708 \n",
      " Epoch [9/100], Training loss: 0.005\n",
      "Test loss of the network: 3.868 \n",
      " Epoch [10/100], Training loss: 0.005\n",
      "Test loss of the network: 3.925 \n",
      " Epoch [11/100], Training loss: 0.005\n",
      "Test loss of the network: 4.121 \n",
      " Epoch [12/100], Training loss: 0.005\n",
      "Test loss of the network: 4.136 \n",
      " Epoch [13/100], Training loss: 0.005\n",
      "Test loss of the network: 4.388 \n",
      " Epoch [14/100], Training loss: 0.006\n",
      "Test loss of the network: 4.384 \n",
      " Epoch [15/100], Training loss: 0.007\n",
      "Test loss of the network: 4.581 \n",
      " Epoch [16/100], Training loss: 0.008\n",
      "Test loss of the network: 4.690 \n",
      " Epoch [17/100], Training loss: 0.008\n",
      "Test loss of the network: 4.686 \n",
      " Epoch [18/100], Training loss: 0.008\n",
      "Test loss of the network: 4.887 \n",
      " Epoch [19/100], Training loss: 0.008\n",
      "Test loss of the network: 4.851 \n",
      " Epoch [20/100], Training loss: 0.008\n",
      "Test loss of the network: 4.995 \n",
      " Epoch [21/100], Training loss: 0.008\n",
      "Test loss of the network: 5.042 \n",
      " Epoch [22/100], Training loss: 0.007\n",
      "Test loss of the network: 5.149 \n",
      " Epoch [23/100], Training loss: 0.007\n",
      "Test loss of the network: 5.142 \n",
      " Epoch [24/100], Training loss: 0.007\n",
      "Test loss of the network: 5.195 \n",
      " Epoch [25/100], Training loss: 0.006\n",
      "Test loss of the network: 5.156 \n",
      " Epoch [26/100], Training loss: 0.006\n",
      "Test loss of the network: 5.194 \n",
      " Epoch [27/100], Training loss: 0.006\n",
      "Test loss of the network: 5.181 \n",
      " Epoch [28/100], Training loss: 0.005\n",
      "Test loss of the network: 5.204 \n",
      " Epoch [29/100], Training loss: 0.005\n",
      "Test loss of the network: 5.145 \n",
      " Epoch [30/100], Training loss: 0.005\n",
      "Test loss of the network: 5.191 \n",
      " Epoch [31/100], Training loss: 0.004\n",
      "Test loss of the network: 5.181 \n",
      " Epoch [32/100], Training loss: 0.004\n",
      "Test loss of the network: 5.156 \n",
      " Epoch [33/100], Training loss: 0.004\n",
      "Test loss of the network: 4.992 \n",
      " Epoch [34/100], Training loss: 0.004\n",
      "Test loss of the network: 4.852 \n",
      " Epoch [35/100], Training loss: 0.004\n",
      "Test loss of the network: 5.444 \n",
      " Epoch [36/100], Training loss: 0.004\n",
      "Test loss of the network: 5.141 \n",
      " Epoch [37/100], Training loss: 0.004\n",
      "Test loss of the network: 5.117 \n",
      " Epoch [38/100], Training loss: 0.003\n",
      "Test loss of the network: 5.168 \n",
      " Epoch [39/100], Training loss: 0.004\n",
      "Test loss of the network: 5.152 \n",
      " Epoch [40/100], Training loss: 0.004\n",
      "Test loss of the network: 4.995 \n",
      " Epoch [41/100], Training loss: 0.004\n",
      "Test loss of the network: 5.048 \n",
      " Epoch [42/100], Training loss: 0.004\n",
      "Test loss of the network: 5.011 \n",
      " Epoch [43/100], Training loss: 0.003\n",
      "Test loss of the network: 4.935 \n",
      " Epoch [44/100], Training loss: 0.004\n",
      "Test loss of the network: 4.848 \n",
      " Epoch [45/100], Training loss: 0.005\n",
      "Test loss of the network: 4.848 \n",
      " Epoch [46/100], Training loss: 0.004\n",
      "Test loss of the network: 4.994 \n",
      " Epoch [47/100], Training loss: 0.004\n",
      "Test loss of the network: 5.309 \n",
      " Epoch [48/100], Training loss: 0.004\n",
      "Test loss of the network: 4.848 \n",
      " Epoch [49/100], Training loss: 0.003\n",
      "Test loss of the network: 4.899 \n",
      " Epoch [50/100], Training loss: 0.005\n",
      "Test loss of the network: 4.954 \n",
      " Epoch [51/100], Training loss: 0.006\n",
      "Test loss of the network: 4.983 \n",
      "EARLY STOPPING\n",
      " Epoch [52/100], Training loss: 0.003\n",
      "Test loss of the network: 4.705 \n",
      "EARLY STOPPING\n",
      " Epoch [53/100], Training loss: 0.005\n",
      "Test loss of the network: 5.287 \n",
      "EARLY STOPPING\n",
      " Epoch [54/100], Training loss: 0.004\n",
      "Test loss of the network: 4.907 \n",
      "EARLY STOPPING\n",
      " Epoch [55/100], Training loss: 0.005\n",
      "Test loss of the network: 5.051 \n",
      "EARLY STOPPING\n",
      " Epoch [56/100], Training loss: 0.005\n",
      "Test loss of the network: 6.032 \n",
      "EARLY STOPPING\n",
      " Epoch [57/100], Training loss: 0.005\n",
      "Test loss of the network: 4.778 \n",
      "EARLY STOPPING\n",
      " Epoch [58/100], Training loss: 0.005\n",
      "Test loss of the network: 5.371 \n",
      "EARLY STOPPING\n",
      " Epoch [59/100], Training loss: 0.004\n",
      "Test loss of the network: 4.806 \n",
      "EARLY STOPPING\n",
      " Epoch [60/100], Training loss: 0.004\n",
      "Test loss of the network: 5.260 \n",
      "EARLY STOPPING\n",
      " Epoch [61/100], Training loss: 0.003\n",
      "Test loss of the network: 4.900 \n",
      "EARLY STOPPING\n",
      " Epoch [62/100], Training loss: 0.003\n",
      "Test loss of the network: 5.212 \n",
      "EARLY STOPPING\n",
      " Epoch [63/100], Training loss: 0.004\n",
      "Test loss of the network: 4.918 \n",
      "EARLY STOPPING\n",
      " Epoch [64/100], Training loss: 0.003\n",
      "Test loss of the network: 4.923 \n",
      "EARLY STOPPING\n",
      " Epoch [65/100], Training loss: 0.003\n",
      "Test loss of the network: 5.573 \n",
      "EARLY STOPPING\n",
      " Epoch [66/100], Training loss: 0.003\n",
      "Test loss of the network: 5.998 \n",
      "EARLY STOPPING\n",
      " Epoch [67/100], Training loss: 0.003\n",
      "Test loss of the network: 4.210 \n",
      "EARLY STOPPING\n",
      " Epoch [68/100], Training loss: 0.003\n",
      "Test loss of the network: 6.542 \n",
      "EARLY STOPPING\n",
      " Epoch [69/100], Training loss: 0.005\n",
      "Test loss of the network: 5.860 \n",
      "EARLY STOPPING\n",
      " Epoch [70/100], Training loss: 0.004\n",
      "Test loss of the network: 5.406 \n",
      "EARLY STOPPING\n",
      " Epoch [71/100], Training loss: 0.005\n",
      "Test loss of the network: 4.670 \n",
      "EARLY STOPPING\n",
      " Epoch [72/100], Training loss: 0.005\n",
      "Test loss of the network: 4.903 \n",
      "EARLY STOPPING\n",
      " Epoch [73/100], Training loss: 0.005\n",
      "Test loss of the network: 5.170 \n",
      "EARLY STOPPING\n",
      " Epoch [74/100], Training loss: 0.005\n",
      "Test loss of the network: 5.394 \n",
      "EARLY STOPPING\n",
      " Epoch [75/100], Training loss: 0.004\n",
      "Test loss of the network: 6.067 \n",
      "EARLY STOPPING\n",
      " Epoch [76/100], Training loss: 0.006\n",
      "Test loss of the network: 6.058 \n",
      "EARLY STOPPING\n",
      " Epoch [77/100], Training loss: 0.004\n",
      "Test loss of the network: 5.557 \n",
      "EARLY STOPPING\n",
      " Epoch [78/100], Training loss: 0.003\n",
      "Test loss of the network: 5.867 \n",
      "EARLY STOPPING\n",
      " Epoch [79/100], Training loss: 0.004\n",
      "Test loss of the network: 5.604 \n",
      "EARLY STOPPING\n",
      " Epoch [80/100], Training loss: 0.004\n",
      "Test loss of the network: 5.491 \n",
      "EARLY STOPPING\n",
      " Epoch [81/100], Training loss: 0.004\n",
      "Test loss of the network: 5.374 \n",
      "EARLY STOPPING\n",
      " Epoch [82/100], Training loss: 0.003\n",
      "Test loss of the network: 5.538 \n",
      "EARLY STOPPING\n",
      " Epoch [83/100], Training loss: 0.002\n",
      "Test loss of the network: 4.466 \n",
      "EARLY STOPPING\n",
      " Epoch [84/100], Training loss: 0.003\n",
      "Test loss of the network: 4.855 \n",
      "EARLY STOPPING\n",
      " Epoch [85/100], Training loss: 0.002\n",
      "Test loss of the network: 5.175 \n",
      "EARLY STOPPING\n",
      " Epoch [86/100], Training loss: 0.003\n",
      "Test loss of the network: 5.266 \n",
      "EARLY STOPPING\n",
      " Epoch [87/100], Training loss: 0.002\n",
      "Test loss of the network: 5.010 \n",
      "EARLY STOPPING\n",
      " Epoch [88/100], Training loss: 0.003\n",
      "Test loss of the network: 4.921 \n",
      "EARLY STOPPING\n",
      " Epoch [89/100], Training loss: 0.002\n",
      "Test loss of the network: 5.335 \n",
      "EARLY STOPPING\n",
      " Epoch [90/100], Training loss: 0.002\n",
      "Test loss of the network: 4.638 \n",
      "EARLY STOPPING\n",
      " Epoch [91/100], Training loss: 0.001\n",
      "Test loss of the network: 5.087 \n",
      "EARLY STOPPING\n",
      " Epoch [92/100], Training loss: 0.002\n",
      "Test loss of the network: 4.910 \n",
      "EARLY STOPPING\n",
      " Epoch [93/100], Training loss: 0.002\n",
      "Test loss of the network: 3.964 \n",
      "EARLY STOPPING\n",
      " Epoch [94/100], Training loss: 0.002\n",
      "Test loss of the network: 5.031 \n",
      "EARLY STOPPING\n",
      " Epoch [95/100], Training loss: 0.002\n",
      "Test loss of the network: 4.934 \n",
      "EARLY STOPPING\n",
      " Epoch [96/100], Training loss: 0.002\n",
      "Test loss of the network: 4.520 \n",
      "EARLY STOPPING\n",
      " Epoch [97/100], Training loss: 0.002\n",
      "Test loss of the network: 4.703 \n",
      "EARLY STOPPING\n",
      " Epoch [98/100], Training loss: 0.002\n",
      "Test loss of the network: 5.290 \n",
      "EARLY STOPPING\n",
      " Epoch [99/100], Training loss: 0.002\n",
      "Test loss of the network: 5.001 \n",
      "EARLY STOPPING\n",
      " Epoch [100/100], Training loss: 0.002\n",
      "Test loss of the network: 4.525 \n",
      "EARLY STOPPING\n"
     ]
    }
   ],
   "source": [
    "# Use a sequence length of 50, as an example for the demo\n",
    "seq_len = 70\n",
    "\n",
    "print(\"SEQUENCE LENGTH IS:\", str(seq_len))\n",
    "\n",
    "# = = = = = = = = = = = = = = = = = = = = = = = = = = = = = = = = = = = = = = = = = = \n",
    "# = = = = = = = = = = = = = = = = Set up Data Loaders = = = = = = = = = = = = = = = = \n",
    "# = = = = = = = = = = = = = = = = = = = = = = = = = = = = = = = = = = = = = = = = = = \n",
    "scaled_df_test = pd.DataFrame(columns=df_test.columns)\n",
    "# Prepend end of training dataset to the start of test dataset and then scale it\n",
    "new_df_test = pd.concat([df_train[-seq_len:].copy(), df_test])\n",
    "scaled_df_test[scaled_df_test.columns] = scaler.transform(new_df_test)\n",
    "\n",
    "# Make a copy of the data\n",
    "raw_train_data = scaled_train_df.copy()\n",
    "raw_test_data = scaled_df_test.copy()\n",
    "\n",
    "# Instantiate train and test dataset objects\n",
    "train_dataset = StockDataSet(raw_train_data, seq_len) \n",
    "test_dataset = StockDataSet(raw_test_data, seq_len)\n",
    "\n",
    "# Define train and test loaders\n",
    "train_loader = DataLoader(dataset = train_dataset,\n",
    "                         batch_size = batch_size,\n",
    "                         num_workers = 2,\n",
    "                         shuffle = False) # shuffle= True??\n",
    "\n",
    "test_loader = DataLoader(dataset = test_dataset,\n",
    "                         batch_size = batch_size,\n",
    "                         num_workers = 2,\n",
    "                         shuffle = False)\n",
    "\n",
    "# = = = = = = = = = = = = = = = = = = = = = = = = = = = = = = = = = = = = = = = = = = \n",
    "#  = = = = = = = = = = = = = Set Up and Train the Model = = = = = = = = = = = = = = =\n",
    "# = = = = = = = = = = = = = = = = = = = = = = = = = = = = = = = = = = = = = = = = = = \n",
    "\n",
    "# Instantiate LSTM model object\n",
    "lstm_model = LSTM_NN(input_size, hidden_size, num_layers, num_outputs).to(device)\n",
    "\n",
    "# Instantiate loss and optimizer objects:\n",
    "criterion = nn.MSELoss() # Not cross entropy because regression problem\n",
    "optimizer = torch.optim.Adam(lstm_model.parameters(), lr=learning_rate) \n",
    "\n",
    "# RUN THE MODEL\n",
    "model, train_loss_list, test_loss_list = train_model(lstm_model, train_loader, test_loader, criterion, optimizer, epochs, model_name)"
   ]
  },
  {
   "cell_type": "markdown",
   "id": "83981e08",
   "metadata": {},
   "source": [
    "## Test the Model"
   ]
  },
  {
   "cell_type": "code",
   "execution_count": 11,
   "id": "4fb6aaac",
   "metadata": {},
   "outputs": [
    {
     "name": "stdout",
     "output_type": "stream",
     "text": [
      "Test loss of the network: 2.691 \n",
      "The RMSE value is: 471.07892\n"
     ]
    }
   ],
   "source": [
    "# Predicted vs true stock prices\n",
    "best_model = LSTM_NN(input_size, hidden_size, num_layers, num_outputs).to(device)\n",
    "\n",
    "# Load best model weights\n",
    "best_model.load_state_dict(torch.load('checkpoint'+'/'+ model_name + '.pth'))\n",
    "_ , predicted, true_labels = test_model(best_model, test_loader, criterion)\n",
    "\n",
    "predicted = np.concatenate(predicted)\n",
    "true_labels = np.concatenate(true_labels)\n",
    "\n",
    "# Revert values back to normal\n",
    "pred_unscaled = predicted*np.sqrt(scaler.var_[3])+ scaler.mean_[3]\n",
    "true_unscaled = true_labels*np.sqrt(scaler.var_[3])+ scaler.mean_[3]\n",
    "\n",
    "rmse = mean_squared_error(true_unscaled, pred_unscaled, squared=False)\n",
    "print(\"The RMSE value is:\", rmse)"
   ]
  },
  {
   "cell_type": "markdown",
   "id": "0e91cc73",
   "metadata": {},
   "source": [
    "## Display Graph"
   ]
  },
  {
   "cell_type": "code",
   "execution_count": 12,
   "id": "1d1963a4",
   "metadata": {
    "colab": {
     "base_uri": "https://localhost:8080/",
     "height": 317
    },
    "id": "1d1963a4",
    "outputId": "d9f5efad-d4a4-446f-880a-cb706b55100d"
   },
   "outputs": [
    {
     "data": {
      "image/png": "[encoded data removed]",
      "text/plain": [
       "<Figure size 432x288 with 1 Axes>"
      ]
     },
     "metadata": {
      "needs_background": "light"
     },
     "output_type": "display_data"
    }
   ],
   "source": [
    "x_day = range(len(predicted))\n",
    "plt.plot(x_day, pred_unscaled, label='Predicted')\n",
    "plt.plot(x_day, true_unscaled, label='True')\n",
    "\n",
    "plt.title('Predicted vs True Stock Prices',fontsize=14, fontweight='bold')\n",
    "plt.xlabel('Day', fontsize=14, fontweight='bold')\n",
    "plt.ylabel('Stock Price',fontsize=14, fontweight='bold')\n",
    "plt.legend(loc='best')\n",
    "\n",
    "# Show plot\n",
    "plt.show()"
   ]
  },
  {
   "cell_type": "markdown",
   "id": "236869a9",
   "metadata": {},
   "source": [
    "## RMSE Values"
   ]
  },
  {
   "cell_type": "code",
   "execution_count": 13,
   "id": "707e99bc",
   "metadata": {},
   "outputs": [
    {
     "name": "stdout",
     "output_type": "stream",
     "text": [
      "RMSE value for 10 forecast steps is: 64.430664\n",
      "RMSE value for 20 forecast steps is: 60.915787\n",
      "RMSE value for 30 forecast steps is: 60.31953\n",
      "RMSE value for 40 forecast steps is: 58.281303\n",
      "RMSE value for 50 forecast steps is: 55.77256\n",
      "RMSE value for 60 forecast steps is: 53.572605\n",
      "RMSE value for 753 forecast steps is: 471.07892\n"
     ]
    }
   ],
   "source": [
    "# Get the RMSE value for multiple forecast steps\n",
    "for fore_step in [10,20,30,40,50,60,753]:\n",
    "    rmse = mean_squared_error(true_unscaled[:fore_step], pred_unscaled[:fore_step], squared=False)\n",
    "    print(\"RMSE value for \" + str(fore_step) + \" forecast steps is: \" + str(rmse))"
   ]
  },
  {
   "cell_type": "code",
   "execution_count": null,
   "id": "b72c3b51",
   "metadata": {},
   "outputs": [],
   "source": []
  }
 ],
 "metadata": {
  "accelerator": "GPU",
  "colab": {
   "name": "LSTM_final.ipynb",
   "provenance": []
  },
  "kernelspec": {
   "display_name": "Python 3",
   "language": "python",
   "name": "python3"
  },
  "language_info": {
   "codemirror_mode": {
    "name": "ipython",
    "version": 3
   },
   "file_extension": ".py",
   "mimetype": "text/x-python",
   "name": "python",
   "nbconvert_exporter": "python",
   "pygments_lexer": "ipython3",
   "version": "3.8.8"
  }
 },
 "nbformat": 4,
 "nbformat_minor": 5
}
