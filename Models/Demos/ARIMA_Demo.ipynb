{
 "cells": [
  {
   "cell_type": "markdown",
   "metadata": {
    "id": "jYN6FeYhnffA"
   },
   "source": [
    "## Import libraries"
   ]
  },
  {
   "cell_type": "code",
   "execution_count": 1,
   "metadata": {
    "colab": {
     "base_uri": "https://localhost:8080/"
    },
    "id": "dtUW17zdmVgx",
    "outputId": "9bfa0661-ca91-43f3-ce69-041f2b17b6e2"
   },
   "outputs": [],
   "source": [
    "import matplotlib.pyplot as plt\n",
    "import numpy as np\n",
    "import os\n",
    "import pandas as pd\n",
    "import copy\n",
    "import warnings\n",
    "from math import sqrt\n",
    "from statsmodels.tsa.arima.model import ARIMA\n",
    "from sklearn.metrics import mean_squared_error\n",
    "from sklearn.metrics import mean_absolute_error\n",
    "from sklearn.preprocessing import StandardScaler\n",
    "\n",
    "warnings.filterwarnings(\"ignore\")"
   ]
  },
  {
   "cell_type": "markdown",
   "metadata": {
    "id": "TilJ3_NenlaW"
   },
   "source": [
    "## Import dataset"
   ]
  },
  {
   "cell_type": "code",
   "execution_count": 2,
   "metadata": {
    "colab": {
     "base_uri": "https://localhost:8080/"
    },
    "id": "8TpMGvkgmYEv",
    "outputId": "8c1ccb4b-6e0f-44e9-b94e-ef1dbf7b4aa6"
   },
   "outputs": [],
   "source": [
    "# # Mount onto Google Drive\n",
    "# from google.colab import drive\n",
    "# drive.mount('/content/drive')\n",
    "\n",
    "# # Change to dataset folder\n",
    "# %cd /content/drive/My\\ Drive/Deep_Learning_Project_Data"
   ]
  },
  {
   "cell_type": "code",
   "execution_count": 14,
   "metadata": {
    "id": "Jtn3ZuxWmb1g"
   },
   "outputs": [
    {
     "name": "stdout",
     "output_type": "stream",
     "text": [
      "3010 training data points\n",
      "753 testing data points\n"
     ]
    }
   ],
   "source": [
    "# Download the CSV files\n",
    "train_df = pd.read_csv('Datasets/train_data.csv', index_col = 0, parse_dates=True )\n",
    "test_df = pd.read_csv('Datasets/test_data.csv', index_col = 0, parse_dates=True)\n",
    "\n",
    "print(str(len(train_df)) +\" training data points\\n\" +\n",
    "      str(len(test_df)) + \" testing data points\", )"
   ]
  },
  {
   "cell_type": "code",
   "execution_count": 15,
   "metadata": {
    "id": "BAV1FmCJm1uf"
   },
   "outputs": [],
   "source": [
    "# Data will only consist of the Close column, because model is univariate.\n",
    "train_df = train_df['Close']\n",
    "test_df = test_df['Close']"
   ]
  },
  {
   "cell_type": "code",
   "execution_count": 16,
   "metadata": {
    "colab": {
     "base_uri": "https://localhost:8080/",
     "height": 286
    },
    "id": "OI1dkXDOm7uE",
    "outputId": "cf931ad5-ed61-4a97-a557-00de71f765f0"
   },
   "outputs": [
    {
     "data": {
      "text/plain": [
       "<matplotlib.legend.Legend at 0x7f03b3edda60>"
      ]
     },
     "execution_count": 16,
     "metadata": {},
     "output_type": "execute_result"
    },
    {
     "data": {
      "image/png": "[encoded data removed]",
      "text/plain": [
       "<Figure size 432x288 with 1 Axes>"
      ]
     },
     "metadata": {
      "needs_background": "light"
     },
     "output_type": "display_data"
    }
   ],
   "source": [
    "# Plot graph of Training and Testing data\n",
    "train_df.plot(label = 'Train data')\n",
    "test_df.plot(label = 'Test data')\n",
    "plt.ylabel('Close Stock Price')\n",
    "plt.legend()"
   ]
  },
  {
   "cell_type": "markdown",
   "metadata": {
    "id": "d_nEJ7aMnueT"
   },
   "source": [
    "## ARIMA model fit"
   ]
  },
  {
   "cell_type": "code",
   "execution_count": 7,
   "metadata": {
    "id": "QwcmdqnvnDSk"
   },
   "outputs": [],
   "source": [
    "p = 20 # Number of lag observations. Sequence length\n",
    "d = 1 # Number of times the raw observations are differenced \n",
    "q = 0 # Size of the moving average window\n",
    "\n",
    "model = ARIMA(train_df, order=(p,d,q)).fit()"
   ]
  },
  {
   "cell_type": "code",
   "execution_count": 23,
   "metadata": {
    "id": "3jp9Gitfw_1i",
    "scrolled": true
   },
   "outputs": [],
   "source": [
    "# Forecast the next 60 days\n",
    "preds = model.forecast(steps = 60)\n",
    "preds = pd.Series(preds)\n",
    "preds.index = test_df.index[:60]"
   ]
  },
  {
   "cell_type": "markdown",
   "metadata": {},
   "source": [
    "## Get Results"
   ]
  },
  {
   "cell_type": "code",
   "execution_count": 29,
   "metadata": {
    "id": "wUE6kw3iOurG"
   },
   "outputs": [
    {
     "name": "stdout",
     "output_type": "stream",
     "text": [
      "10: 39.56\n",
      "20: 31.53\n",
      "30: 31.43\n",
      "40: 42.89\n",
      "50: 47.64\n",
      "60: 64.08\n"
     ]
    }
   ],
   "source": [
    "# List of each forecast steps we want to predict for\n",
    "future_points = [10,20,30,40,50,60]\n",
    "error = []\n",
    "\n",
    "# Get RMSE for each date\n",
    "for point in future_points:\n",
    "    rmse = mean_squared_error(test_df[:point], preds[:point], squared=False)\n",
    "    error.append(rmse)\n",
    "    print(str(point)+ \": \" + str(round(rmse,2)))"
   ]
  },
  {
   "cell_type": "code",
   "execution_count": 10,
   "metadata": {},
   "outputs": [
    {
     "name": "stdout",
     "output_type": "stream",
     "text": [
      "[39.564466879900884, 31.532121172255952, 31.429360336542896, 42.88619362379405, 47.643935377220245, 64.07792515296077]\n"
     ]
    }
   ],
   "source": [
    "print(error)"
   ]
  }
 ],
 "metadata": {
  "colab": {
   "name": "ARIMA.ipynb",
   "provenance": []
  },
  "kernelspec": {
   "display_name": "Python 3",
   "language": "python",
   "name": "python3"
  },
  "language_info": {
   "codemirror_mode": {
    "name": "ipython",
    "version": 3
   },
   "file_extension": ".py",
   "mimetype": "text/x-python",
   "name": "python",
   "nbconvert_exporter": "python",
   "pygments_lexer": "ipython3",
   "version": "3.8.8"
  }
 },
 "nbformat": 4,
 "nbformat_minor": 1
}
